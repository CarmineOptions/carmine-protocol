{
 "cells": [
  {
   "cell_type": "code",
   "execution_count": null,
   "id": "fbd17f55",
   "metadata": {},
   "outputs": [],
   "source": [
    "from IPython.display import display, HTML\n",
    "display(HTML(\"<style>.container { width:100% !important; }</style>\"))"
   ]
  },
  {
   "cell_type": "markdown",
   "id": "322e0ca2",
   "metadata": {},
   "source": [
    "# Simulating price impacts of different order sizes\n",
    "\n",
    "This notebook contains simlations of how different order sizes impact premium price in pools of different size. "
   ]
  },
  {
   "cell_type": "markdown",
   "id": "ec791940",
   "metadata": {},
   "source": [
    "## Table of Contents:\n",
    "* [Deploying contracts](#Deploying-contracts)\n",
    "* [Generating data](#Generating-data)\n",
    "* [Plot summary](#Plot-summary)\n",
    "* [Table summary](#Table-summary)\n",
    "* [Verbose summary](#Verbose-summary)"
   ]
  },
  {
   "cell_type": "markdown",
   "id": "71f02593",
   "metadata": {},
   "source": [
    "**There were some changes done to the AMM itself, which won't be included in the commit, but can be easily reproducible:**\n",
    "\n",
    " - hardcoded price of ETH\n",
    "     - changed value of underlying_price in amm.cairo \n",
    "     - to reproduce:\n",
    "         - go to contracts/amm.cairo\n",
    "         - search for 'let (underlying_price) = ...'\n",
    "         - change that line to 'let (underlying_price) = Math64x61.fromFelt(x)'  where x is the price you wish to use\n",
    "         - save file     \n",
    "     \n",
    "     \n",
    " -  hardcoded current block time in _time_till_maturity\n",
    "     - changed currtime in amm.cairo to 1640991600 -> 31/12/2021 \n",
    "     - to reproduce: \n",
    "         - go to contracts/amm.cairo\n",
    "         - search for 'let (currtime) ...'\n",
    "         - change that line to 'let currtime = x'  where x is timestamp in seconds"
   ]
  },
  {
   "cell_type": "code",
   "execution_count": null,
   "id": "dff55185",
   "metadata": {},
   "outputs": [],
   "source": [
    "import os\n",
    "import pickle\n",
    "\n",
    "import matplotlib.pyplot as plt\n",
    "import pandas as pd\n",
    "\n",
    "from starkware.starknet.testing.starknet import Starknet\n",
    "from starkware.starknet.testing.contract import StarknetContract\n",
    "from starkware.starkware_utils.error_handling import StarkException\n",
    "\n",
    "from aux import (\n",
    "    USER_ID,\n",
    "    STARTING_TOKEN_BALANCE_1,\n",
    "    STARTING_TOKEN_BALANCE_2,\n",
    "    STRIKE_PRICE,\n",
    "    do_trade,\n",
    "    show_current_premium,\n",
    "    MATURITY,\n",
    "    show_pool_volatility,\n",
    "    AmmContract\n",
    ")\n"
   ]
  },
  {
   "cell_type": "code",
   "execution_count": null,
   "id": "c8157946",
   "metadata": {},
   "outputs": [],
   "source": [
    "# Set current price for trades here\n",
    "CURRENT_PRICE = 1200"
   ]
  },
  {
   "cell_type": "markdown",
   "id": "75456f30",
   "metadata": {},
   "source": [
    "### Deploying contracts"
   ]
  },
  {
   "cell_type": "code",
   "execution_count": null,
   "id": "79aaa6d8",
   "metadata": {},
   "outputs": [],
   "source": [
    "net = await Starknet.empty()"
   ]
  },
  {
   "cell_type": "code",
   "execution_count": null,
   "id": "1424ed3e",
   "metadata": {},
   "outputs": [],
   "source": [
    "# Function that will deploy Amm contract, add tokens for the user and return the contract\n",
    "async def deploy_and_add_tokens(pool_size: int) -> AmmContract:\n",
    "    mm = await net.deploy(source = os.path.join('..', '..', 'contracts/main.cairo'), \n",
    "    cairo_path = ['../..', \n",
    "                 '../../lib/cairo_math_64x61/contracts/cairo_math_64x61',\n",
    "                 '../../contracts'])\n",
    "    print(f'Initializing pool with pool size: {pool_size / 2**61:_}')\n",
    "    await mm.init_pool(\n",
    "        pool_size, # Call balance\n",
    "        pool_size * CURRENT_PRICE # Put balance\n",
    "    ).invoke()\n",
    "    return mm"
   ]
  },
  {
   "cell_type": "code",
   "execution_count": null,
   "id": "f75af108",
   "metadata": {},
   "outputs": [],
   "source": [
    "# Define pool and order sizes to test\n",
    "\n",
    "pool_sizes = [10_000, 20_000, 35_000 ,75_000]\n",
    "\n",
    "# Define weights of trades -> proportion of the pool that is to be traded\n",
    "weights = [0.0025, 0.005, 0.0075, 0.01, 0.05, 0.075, 0.1, 0.25, 0.5, 0.9]"
   ]
  },
  {
   "cell_type": "code",
   "execution_count": null,
   "id": "1e3b2a38",
   "metadata": {},
   "outputs": [],
   "source": [
    "# Deploy contracts and store them in dict for easier iteration\n",
    "\n",
    "data = {\n",
    "    pool_size : {\n",
    "        'func': await deploy_and_add_tokens(pool_size * 2 ** 61)\n",
    "    } for pool_size in pool_sizes\n",
    "}"
   ]
  },
  {
   "cell_type": "markdown",
   "id": "04f7bfb7",
   "metadata": {},
   "source": [
    "### Generating data"
   ]
  },
  {
   "cell_type": "code",
   "execution_count": null,
   "id": "307b1175",
   "metadata": {},
   "outputs": [],
   "source": [
    "for key in data.keys():\n",
    "    data[key]['records'] = []\n",
    "    print(f'Working on amm with pool size: {key:_}')\n",
    "    \n",
    "    order_sizes = [weight*key for weight in weights]\n",
    "    for order_size in order_sizes:\n",
    "#         try: \n",
    "        tmp = {}\n",
    "        tmp['order_size'] = order_size\n",
    "        print(f'  Current order size: {order_size:_}')\n",
    "\n",
    "        # Retrieve premium and volatility before trades\n",
    "        tmp.update({f'init_{k}': value for k, value in (await show_current_premium(data[key]['func'], 1, True, CURRENT_PRICE)).items()})\n",
    "        tmp.update({f'init_{k}': value for k, value in (await show_pool_volatility(data[key]['func'], True)).items()})\n",
    "#         await show_pool_volatility(data[key]['func'], False)\n",
    "\n",
    "        # Conduct trades\n",
    "        await do_trade(data[key]['func'], int(order_size * 2**61), 0, 0)\n",
    "        await do_trade(data[key]['func'], int(order_size * 2**61), 1, 0)\n",
    "\n",
    "        # Retrieve premium and volatility after trades\n",
    "        tmp.update({f'after_{k}': value for k, value in (await show_current_premium(data[key]['func'], 1, True, CURRENT_PRICE)).items()})\n",
    "        tmp.update({f'after_{k}': value for k, value in (await show_pool_volatility(data[key]['func'], True)).items()})\n",
    "#         await show_pool_volatility(data[key]['func'], False)\n",
    "\n",
    "        # Calculate changes in premium\n",
    "        tmp['premium_change_CALL'] = tmp['after_prem_CALL'] - tmp['init_prem_CALL']\n",
    "        tmp['premium_change_PUT'] = tmp['after_prem_PUT'] - tmp['init_prem_PUT']\n",
    "\n",
    "        tmp['perc_premium_change_CALL'] =  (tmp['after_prem_CALL'] / tmp['init_prem_CALL'] - 1) * 100\n",
    "        tmp['perc_premium_change_PUT'] = (tmp['after_prem_PUT'] / tmp['init_prem_PUT'] - 1) * 100\n",
    "\n",
    "        tmp['volatility_change_CALL'] = tmp['after_pool_vol_CALL'] - tmp['init_pool_vol_CALL']\n",
    "        tmp['volatility_change_PUT'] = tmp['after_pool_vol_PUT'] - tmp['init_pool_vol_PUT']\n",
    "\n",
    "        tmp['perc_volatility_change_CALL'] = (tmp['after_pool_vol_CALL'] / tmp['init_pool_vol_CALL'] - 1) * 100\n",
    "        tmp['perc_volatility_change_PUT'] = (tmp['after_pool_vol_PUT'] / tmp['init_pool_vol_PUT'] - 1 ) * 100\n",
    "\n",
    "        data[key]['records'].append(tmp)\n",
    "\n",
    "        # Reset the pools for the next order size simulation\n",
    "        data[key]['func'] = await deploy_and_add_tokens(key * 2 ** 61)\n",
    "\n",
    "#         except StarkException as e:\n",
    "#             print(e)\n",
    "#             print(f\"  ERROR at order_size: {order_size:_}\")\n",
    "#             continue"
   ]
  },
  {
   "cell_type": "markdown",
   "id": "44cf8e2c",
   "metadata": {},
   "source": [
    "**Errors indicate places where there wasnt enough funds in the pool.**"
   ]
  },
  {
   "cell_type": "code",
   "execution_count": null,
   "id": "371623b5",
   "metadata": {},
   "outputs": [],
   "source": [
    "# Remove Starknet Contracts from data because it's not serializable for pickle\n",
    "\n",
    "for key in data.keys():\n",
    "    del data[key]['func']"
   ]
  },
  {
   "cell_type": "code",
   "execution_count": null,
   "id": "97ef05bc",
   "metadata": {},
   "outputs": [],
   "source": [
    "# Generating data can take quite a while, so it's provided in a pickle file\n",
    "# with open('data_current_1200.pickle', 'wb') as f:\n",
    "#     pickle.dump(data, f)\n",
    "\n",
    "# with open('data_current_1200.pickle', 'rb') as f:\n",
    "#     data = pickle.load(f)"
   ]
  },
  {
   "cell_type": "markdown",
   "id": "28cf3eec",
   "metadata": {},
   "source": [
    "<!-- Little easter egg :) -->"
   ]
  },
  {
   "cell_type": "markdown",
   "id": "55f57903",
   "metadata": {},
   "source": [
    "### Plot summary"
   ]
  },
  {
   "cell_type": "code",
   "execution_count": null,
   "id": "5241d621",
   "metadata": {},
   "outputs": [],
   "source": [
    "fig, ax = plt.subplots(ncols = 1, nrows = len(data.keys()))\n",
    "fig.set_dpi(100)\n",
    "fig.set_size_inches(15, 20)\n",
    "fig.suptitle(f\"Relative(%) changes in 1ETH Call/Put Premia v. Order size \\n Strike price: {STRIKE_PRICE / 2**61}\\nCurrent price: 1200\", fontweight=\"bold\",  size=15)\n",
    "\n",
    "for ix, (key, value) in enumerate(data.items()):\n",
    "    tmp = pd.DataFrame(value['records'])\n",
    "    ax[ix].plot(tmp['order_size'], tmp['perc_premium_change_CALL'], label = 'CALL')\n",
    "    ax[ix].plot(tmp['order_size'], tmp['perc_premium_change_PUT'], label = 'PUT')\n",
    "    ax[ix].legend()\n",
    "    ax[ix].set_title(f'Pool size: {key:_}')"
   ]
  },
  {
   "cell_type": "markdown",
   "id": "dd818464",
   "metadata": {},
   "source": [
    "Whole process is repeated, but now with hardcoded ETH price of $800."
   ]
  },
  {
   "cell_type": "code",
   "execution_count": null,
   "id": "c4bc16e5",
   "metadata": {},
   "outputs": [],
   "source": [
    "# File containing data for sims with current price = 800 named data_current_800.pickle\n",
    "\n",
    "# with open('data_current_800.pickle', 'rb') as f:\n",
    "#     data_2 = pickle.load(f)"
   ]
  },
  {
   "cell_type": "code",
   "execution_count": null,
   "id": "7f01eeb9",
   "metadata": {},
   "outputs": [],
   "source": [
    "fig, ax = plt.subplots(ncols = 1, nrows = len(data_2.keys()))\n",
    "fig.set_dpi(100)\n",
    "fig.set_size_inches(15, 20)\n",
    "fig.suptitle(f\"Relative(%) changes in 1ETH Call/Put Premia v. Order size \\n Strike price: {STRIKE_PRICE / 2**61}\\nCurrent price: 800\", fontweight=\"bold\",  size=15)\n",
    "\n",
    "for ix, (key, value) in enumerate(data_2.items()):\n",
    "    tmp = pd.DataFrame(value['records'])\n",
    "    ax[ix].plot(tmp['order_size'], tmp['perc_premium_change_CALL'], label = 'CALL')\n",
    "    ax[ix].plot(tmp['order_size'], tmp['perc_premium_change_PUT'], label = 'PUT')\n",
    "    ax[ix].legend()\n",
    "    ax[ix].set_title(f'Pool size: {key:_}')"
   ]
  },
  {
   "cell_type": "markdown",
   "id": "fcf02e8d",
   "metadata": {},
   "source": [
    "### Table summary"
   ]
  },
  {
   "cell_type": "code",
   "execution_count": null,
   "id": "9539cc59",
   "metadata": {},
   "outputs": [],
   "source": [
    "colnames = ['Order size as percentage of pool']\n",
    "df_1 = []\n",
    "df_1.append([str(i * 100) + '%' for i in weights])\n",
    "for key, value in data.items():\n",
    "    tmp = [str(round(i['perc_premium_change_CALL'], 4)) + '%' for i in value['records']]\n",
    "    tmp2 = [str(round(i['perc_premium_change_PUT'], 4)) + '%' for i in value['records']]\n",
    "    colnames.append(f\"{key}_CALL\")\n",
    "    colnames.append(f\"{key}_PUT\")\n",
    "    df_1.append(tmp)\n",
    "    df_1.append(tmp2)\n",
    "    \n",
    "df_1 = pd.concat([pd.Series(i) for i in df_1], axis=1)\n",
    "df_1 = df_1.rename(columns = {i: colnames[i] for i in df_1.columns})\n",
    "\n",
    "df_2= []\n",
    "df_2.append([str(i * 100) + '%' for i in weights])\n",
    "for key, value in data_2.items():\n",
    "    tmp = [str(round(i['perc_premium_change_CALL'], 4)) + '%' for i in value['records']]\n",
    "    tmp2 = [str(round(i['perc_premium_change_PUT'], 4)) + '%' for i in value['records']]\n",
    "    df_2.append(tmp)\n",
    "    df_2.append(tmp2)\n",
    "\n",
    "df_2 = pd.concat([pd.Series(i) for i in df_2], axis=1)\n",
    "df_2 = df_2.rename(columns = {i: colnames[i] for i in df_2.columns})\n"
   ]
  },
  {
   "cell_type": "code",
   "execution_count": null,
   "id": "d45a0e93",
   "metadata": {},
   "outputs": [],
   "source": [
    "print(f'Strike price: 1000, Current price: 1200')\n",
    "df_1.set_index(r'Order size as percentage of pool')"
   ]
  },
  {
   "cell_type": "code",
   "execution_count": null,
   "id": "a82f17e6",
   "metadata": {},
   "outputs": [],
   "source": [
    "print(f'Strike price: 1000, Current price: 800')\n",
    "df_2.set_index(r'Order size as percentage of pool')"
   ]
  },
  {
   "cell_type": "markdown",
   "id": "70690fc5",
   "metadata": {},
   "source": [
    "### Verbose summary"
   ]
  },
  {
   "cell_type": "code",
   "execution_count": null,
   "id": "90906bba",
   "metadata": {},
   "outputs": [],
   "source": [
    "def print_info(data, strike, current):\n",
    "    for key, item in data.items():\n",
    "        print(f\"For strike price {strike}, current price {current}, pool size {key:_} ETH\")\n",
    "        for trade in item['records']:\n",
    "            print(f\"   Call premium shifts by {trade['perc_premium_change_CALL']:.4f}% when we trade option of size {trade['order_size']} ETH ({trade['order_size'] / key:.2%} of the pool)\")\n",
    "            print(f\"   Put premium shifts by {trade['perc_premium_change_PUT']:.4f}% when we trade option of size {trade['order_size']} ETH ({trade['order_size'] / key:.2%} of the pool)\")\n",
    "     "
   ]
  },
  {
   "cell_type": "code",
   "execution_count": null,
   "id": "fb8aeded",
   "metadata": {
    "scrolled": false
   },
   "outputs": [],
   "source": [
    "print_info(data, 1200, 1000)"
   ]
  },
  {
   "cell_type": "code",
   "execution_count": null,
   "id": "39574fd5",
   "metadata": {},
   "outputs": [],
   "source": [
    "print_info(data_2, 800, 1000)"
   ]
  },
  {
   "cell_type": "code",
   "execution_count": null,
   "id": "f693287a",
   "metadata": {},
   "outputs": [],
   "source": []
  }
 ],
 "metadata": {
  "kernelspec": {
   "display_name": "Python 3 (ipykernel)",
   "language": "python",
   "name": "python3"
  },
  "language_info": {
   "codemirror_mode": {
    "name": "ipython",
    "version": 3
   },
   "file_extension": ".py",
   "mimetype": "text/x-python",
   "name": "python",
   "nbconvert_exporter": "python",
   "pygments_lexer": "ipython3",
   "version": "3.9.13"
  }
 },
 "nbformat": 4,
 "nbformat_minor": 5
}
